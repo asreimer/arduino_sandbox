{
 "cells": [
  {
   "cell_type": "markdown",
   "metadata": {},
   "source": [
    "**Author:** Ashton Reimer"
   ]
  },
  {
   "cell_type": "markdown",
   "metadata": {},
   "source": [
    "## Updating the Display Initialization\n",
    "\n",
    "**Date:** 28 December 2020\n",
    "\n",
    "In the WayinTop shipped guide for this RTC project, they use an outdated API for the OLED display and tell the user to modify the `Adafruit_SSD1306.h` header file instead of using the suggested API. Playing around with this, I found that updating the code is really easy. Simply replace:\n",
    "\n",
    "    Adafruit_SSD1306 display(OLED_RESET);\n",
    "\n",
    "with\n",
    "\n",
    "    Adafruit_SSD1306 display(SCREEN_WIDTH,SCREEN_HEIGHT,&Wire,OLED_RESET,400000UL,100000UL);\n",
    "    \n",
    "I created an issue for this on the WayinTop GitHub: https://github.com/WayinTop/Real-Time-Clock-Kit-Tutorial/issues/1"
   ]
  },
  {
   "cell_type": "code",
   "execution_count": null,
   "metadata": {},
   "outputs": [],
   "source": []
  }
 ],
 "metadata": {
  "kernelspec": {
   "display_name": "Python 3",
   "language": "python",
   "name": "python3"
  },
  "language_info": {
   "codemirror_mode": {
    "name": "ipython",
    "version": 3
   },
   "file_extension": ".py",
   "mimetype": "text/x-python",
   "name": "python",
   "nbconvert_exporter": "python",
   "pygments_lexer": "ipython3",
   "version": "3.7.4"
  }
 },
 "nbformat": 4,
 "nbformat_minor": 4
}
